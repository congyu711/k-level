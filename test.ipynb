{
 "cells": [
  {
   "cell_type": "code",
   "execution_count": 9,
   "metadata": {},
   "outputs": [],
   "source": [
    "\n",
    "with open('data.in', 'r') as file:\n",
    "    next(file)\n",
    "    file_content = file.readlines()"
   ]
  },
  {
   "cell_type": "code",
   "execution_count": 10,
   "metadata": {},
   "outputs": [],
   "source": [
    "n,p =[int(x) for x in file_content[0].split()]\n",
    "def line(i):\n",
    "    k,b=[int(x) for x in file_content[i+1].split()]\n",
    "    print(\"  y= \"+str(k/1e6)+\"x-\"+str(b/1e4))\n",
    "\n",
    "def crossing(i,j):\n",
    "    a1,b1=[int(x) for x in file_content[i+1].split()]\n",
    "    a2,b2=[int(x) for x in file_content[j+1].split()]\n",
    "    return (b1-b2)/(a1-a2)"
   ]
  },
  {
   "cell_type": "code",
   "execution_count": 11,
   "metadata": {},
   "outputs": [
    {
     "name": "stdout",
     "output_type": "stream",
     "text": [
      "  y= 9.434587x-5.0886\n",
      "  y= 11.204583x-5.0886\n",
      "0.0\n"
     ]
    }
   ],
   "source": [
    "line(14012)\n",
    "line(16044)\n",
    "print(crossing(16044,14012))"
   ]
  },
  {
   "cell_type": "code",
   "execution_count": 12,
   "metadata": {},
   "outputs": [],
   "source": [
    "# # check monotone\n",
    "\n",
    "# with open('!klevelmain.out', 'r') as file:\n",
    "#     file_content = file.readlines()\n",
    "# lst=[]\n",
    "# for line in file_content:\n",
    "#     a,b=[float(x) for x in line.split()]\n",
    "#     lst.append(b)\n",
    "\n",
    "# print(all(x<=y for x, y in zip(lst, lst[1:])))"
   ]
  }
 ],
 "metadata": {
  "kernelspec": {
   "display_name": "Python 3",
   "language": "python",
   "name": "python3"
  },
  "language_info": {
   "codemirror_mode": {
    "name": "ipython",
    "version": 3
   },
   "file_extension": ".py",
   "mimetype": "text/x-python",
   "name": "python",
   "nbconvert_exporter": "python",
   "pygments_lexer": "ipython3",
   "version": "3.12.3"
  }
 },
 "nbformat": 4,
 "nbformat_minor": 2
}
