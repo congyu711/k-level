{
 "cells": [
  {
   "cell_type": "code",
   "execution_count": 22,
   "metadata": {},
   "outputs": [],
   "source": [
    "\n",
    "with open('data.in', 'r') as file:\n",
    "    next(file)\n",
    "    file_content = file.readlines()"
   ]
  },
  {
   "cell_type": "code",
   "execution_count": 23,
   "metadata": {},
   "outputs": [
    {
     "name": "stdout",
     "output_type": "stream",
     "text": [
      "  y= 1.94248x-0.027824\n",
      "  y= 1.872232x-0.17148\n",
      "  y= 1.923143x-0.068722\n",
      "  y= 1.939685x-0.040248\n",
      "  y= 1.94248x-0.027824\n",
      "  y= 1.850222x-0.185734\n"
     ]
    }
   ],
   "source": [
    "n,p =[int(x) for x in file_content[0].split()]\n",
    "def line(i):\n",
    "    k,b=[int(x) for x in file_content[i+1].split()]\n",
    "    print(\"  y= \"+str(k/1e6)+\"x-\"+str(b/1e6))\n",
    "\n",
    "def crossing(i,j):\n",
    "    a1,b1=[int(x) for x in file_content[i+1].split()]\n",
    "    a2,b2=[int(x) for x in file_content[j+1].split()]\n",
    "    return (b1-b2)/(a1-a2)\n",
    "\n",
    "\n",
    "\n",
    "line(6534)\n",
    "line(3451)\n",
    "line(402)\n",
    "line(9065)\n",
    "line(6534)\n",
    "line(4396)"
   ]
  }
 ],
 "metadata": {
  "kernelspec": {
   "display_name": "Python 3",
   "language": "python",
   "name": "python3"
  },
  "language_info": {
   "codemirror_mode": {
    "name": "ipython",
    "version": 3
   },
   "file_extension": ".py",
   "mimetype": "text/x-python",
   "name": "python",
   "nbconvert_exporter": "python",
   "pygments_lexer": "ipython3",
   "version": "3.11.8"
  }
 },
 "nbformat": 4,
 "nbformat_minor": 2
}
