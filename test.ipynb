{
 "cells": [
  {
   "cell_type": "code",
   "execution_count": 37,
   "metadata": {},
   "outputs": [],
   "source": [
    "\n",
    "with open('data.in', 'r') as file:\n",
    "    next(file)\n",
    "    file_content = file.readlines()"
   ]
  },
  {
   "cell_type": "code",
   "execution_count": 38,
   "metadata": {},
   "outputs": [],
   "source": [
    "n,p =[int(x) for x in file_content[0].split()]\n",
    "def line(i):\n",
    "    k,b=[int(x) for x in file_content[i+1].split()]\n",
    "    print(\"  y= \"+str(k/1e6)+\"x-\"+str(b/1e4))\n",
    "\n",
    "def crossing(i,j):\n",
    "    a1,b1=[int(x) for x in file_content[i+1].split()]\n",
    "    a2,b2=[int(x) for x in file_content[j+1].split()]\n",
    "    return (b1-b2)/(a1-a2)"
   ]
  },
  {
   "cell_type": "code",
   "execution_count": 39,
   "metadata": {},
   "outputs": [
    {
     "name": "stdout",
     "output_type": "stream",
     "text": [
      "  y= 2.91306x-1.8994\n",
      "  y= 1.951066x-9.6672\n",
      "  y= 2.705468x-3.5816\n",
      "  y= 1.425334x-13.8891\n",
      "  y= 2.906198x-2.0035\n",
      "  y= 1.370515x-14.4101\n",
      "-0.08111521529222378\n"
     ]
    }
   ],
   "source": [
    "line(6217)\n",
    "line(1220)\n",
    "line(5229)\n",
    "line(8055)\n",
    "line(252)\n",
    "line(5010)\n",
    "print(crossing(5010,5229))"
   ]
  },
  {
   "cell_type": "code",
   "execution_count": 40,
   "metadata": {},
   "outputs": [
    {
     "name": "stdout",
     "output_type": "stream",
     "text": [
      "True\n"
     ]
    }
   ],
   "source": [
    "# check monotone\n",
    "\n",
    "with open('!klevelmain.out', 'r') as file:\n",
    "    file_content = file.readlines()\n",
    "lst=[]\n",
    "for line in file_content:\n",
    "    a,b=[float(x) for x in line.split()]\n",
    "    lst.append(b)\n",
    "\n",
    "print(all(x<=y for x, y in zip(lst, lst[1:])))"
   ]
  }
 ],
 "metadata": {
  "kernelspec": {
   "display_name": "Python 3",
   "language": "python",
   "name": "python3"
  },
  "language_info": {
   "codemirror_mode": {
    "name": "ipython",
    "version": 3
   },
   "file_extension": ".py",
   "mimetype": "text/x-python",
   "name": "python",
   "nbconvert_exporter": "python",
   "pygments_lexer": "ipython3",
   "version": "3.12.3"
  }
 },
 "nbformat": 4,
 "nbformat_minor": 2
}
